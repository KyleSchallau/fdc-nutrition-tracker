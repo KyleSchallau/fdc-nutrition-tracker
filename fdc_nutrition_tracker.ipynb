{
 "cells": [
  {
   "cell_type": "markdown",
   "id": "234f6e96",
   "metadata": {},
   "source": [
    "# Load the modules"
   ]
  },
  {
   "cell_type": "code",
   "execution_count": 21,
   "id": "c614f447",
   "metadata": {},
   "outputs": [],
   "source": [
    "import pandas as pd"
   ]
  },
  {
   "cell_type": "markdown",
   "id": "89c60be4",
   "metadata": {},
   "source": [
    "# Get the FDC ID"
   ]
  },
  {
   "cell_type": "code",
   "execution_count": null,
   "id": "1754206f",
   "metadata": {},
   "outputs": [],
   "source": [
    "df1 = pd.read_csv('food.csv')\n",
    "df2 = pd.read_csv('branded_food.csv')"
   ]
  },
  {
   "cell_type": "code",
   "execution_count": 107,
   "id": "bc8c64c1",
   "metadata": {},
   "outputs": [
    {
     "name": "stdout",
     "output_type": "stream",
     "text": [
      "Enter the exact description of the food: peas and carrots\n",
      "Description: PEAS AND CARROTS\n",
      "\n",
      "Enter the exact brand name of the food: Roundy's\n",
      "Brand owner: ROUNDY'S\n"
     ]
    }
   ],
   "source": [
    "# Allows user to enter the name of the food. Input must be exact.\n",
    "description = input(\"Enter the exact description of the food: \")\n",
    "description = description.upper()\n",
    "print(\"Description: \" + description)\n",
    "\n",
    "print()\n",
    "\n",
    "# Allows user to enter the brand owner to find the food. Input must be exact.\n",
    "brand_owner = input(\"Enter the exact brand name of the food: \")\n",
    "brand_owner = brand_owner.upper()\n",
    "print(\"Brand owner: \" + brand_owner)"
   ]
  },
  {
   "cell_type": "code",
   "execution_count": 108,
   "id": "553ba2e8",
   "metadata": {},
   "outputs": [
    {
     "name": "stdout",
     "output_type": "stream",
     "text": [
      "FDC ID: 356721\n"
     ]
    }
   ],
   "source": [
    "\"\"\" Create dataframes using the content equal to the food and brand owner. \n",
    "    Converts the fdc_ids to lists \"\"\"\n",
    "\n",
    "df2 = df1[df1[\"description\"] == description]\n",
    "df3 = df2[\"fdc_id\"].tolist()\n",
    "\n",
    "df5 = df4[df4[\"brand_owner\"] == brand_owner]\n",
    "df6 = df5[\"fdc_id\"].tolist()\n",
    "\n",
    "\n",
    "# Gets the FDC ID that matches the brand owner and description.\n",
    "fdcId = 0\n",
    "\n",
    "for i in range(0, len(df3)):\n",
    "    for j in range(0, len(df6)):\n",
    "        if(df3[i] == df6[j]):\n",
    "            fdcId = df6[j]\n",
    "\n",
    "if fdcId == 0:\n",
    "    print(\"FDC ID not found\")\n",
    "else:\n",
    "    print(\"FDC ID: \"+ str(fdcId))"
   ]
  },
  {
   "cell_type": "markdown",
   "id": "aee31259",
   "metadata": {},
   "source": [
    "# Get the Food Nutrient IDs"
   ]
  },
  {
   "cell_type": "code",
   "execution_count": 109,
   "id": "766453f7",
   "metadata": {},
   "outputs": [],
   "source": [
    "df_nutrients = pd.read_csv('food_nutrient.csv')"
   ]
  },
  {
   "cell_type": "code",
   "execution_count": 111,
   "id": "f4aa2d44",
   "metadata": {},
   "outputs": [],
   "source": [
    "# Get all the nutrients that are equal to the fdcId\n",
    "df_nutrients_id = df_nutrients[df_nutrients[\"fdc_id\"] == fdcId]"
   ]
  },
  {
   "cell_type": "code",
   "execution_count": 113,
   "id": "4780837b",
   "metadata": {},
   "outputs": [
    {
     "name": "stdout",
     "output_type": "stream",
     "text": [
      "             id  fdc_id  nutrient_id   amount\n",
      "642459  4908190  356721         1008    67.00\n",
      "642460  4908193  356721         1093    33.00\n",
      "642461  4908192  356721         1079     3.30\n",
      "642462  4908189  356721         1005    10.00\n",
      "642463  4908191  356721         2000     4.44\n",
      "642464  4908188  356721         1003     2.22\n",
      "642465  4908194  356721         1257     0.00\n",
      "642466  3359779  356721         1089     0.80\n",
      "642467  3359780  356721         1104  1667.00\n",
      "642468  3359778  356721         1087     0.00\n",
      "642469  3359781  356721         1162     5.30\n",
      "642470  3359777  356721         1004     0.00\n",
      "642471  3359782  356721         1253     0.00\n",
      "642472  3359783  356721         1258     0.00\n"
     ]
    }
   ],
   "source": [
    "print(df_nutrients_id)"
   ]
  },
  {
   "cell_type": "code",
   "execution_count": 125,
   "id": "491bf985",
   "metadata": {},
   "outputs": [],
   "source": [
    "# Create a list of nutrient ids and nutrient amounts\n",
    "nutrient_ids = df_nutrients_id[\"nutrient_id\"].tolist()\n",
    "nutrient_amounts = df_nutrients_id[\"amount\"].tolist()"
   ]
  },
  {
   "cell_type": "markdown",
   "id": "f9e59472",
   "metadata": {},
   "source": [
    "# Get Name of Nutrient and Unit"
   ]
  },
  {
   "cell_type": "code",
   "execution_count": 114,
   "id": "b359eaf6",
   "metadata": {},
   "outputs": [],
   "source": [
    "df_nutrient = pd.read_csv(\"nutrient.csv\")"
   ]
  },
  {
   "cell_type": "code",
   "execution_count": 123,
   "id": "93563ef5",
   "metadata": {},
   "outputs": [],
   "source": [
    "#Get all the ids that are in nutrient ids list and assign the to dataframe\n",
    "df_nutrients = df_nutrient[df_nutrient[\"id\"].isin(nutrient_ids)]"
   ]
  },
  {
   "cell_type": "code",
   "execution_count": 124,
   "id": "d6256273",
   "metadata": {},
   "outputs": [
    {
     "name": "stdout",
     "output_type": "stream",
     "text": [
      "       id                            name unit_name\n",
      "4    1003                         Protein         G\n",
      "5    1004               Total lipid (fat)         G\n",
      "6    1005     Carbohydrate, by difference         G\n",
      "9    1008                          Energy      KCAL\n",
      "80   1079            Fiber, total dietary         G\n",
      "88   1087                     Calcium, Ca        MG\n",
      "90   1089                        Iron, Fe        MG\n",
      "94   1093                      Sodium, Na        MG\n",
      "105  1104                   Vitamin A, IU        IU\n",
      "163  1162  Vitamin C, total ascorbic acid        MG\n",
      "254  1253                     Cholesterol        MG\n",
      "258  1257        Fatty acids, total trans         G\n",
      "259  1258    Fatty acids, total saturated         G\n",
      "415  2000    Sugars, total including NLEA         G\n"
     ]
    }
   ],
   "source": [
    "print(df_nutrients)"
   ]
  },
  {
   "cell_type": "code",
   "execution_count": 126,
   "id": "34ff6a69",
   "metadata": {},
   "outputs": [],
   "source": [
    "# Create a list of nutrient names and units\n",
    "nutrient_names = df_nutrients[\"name\"].tolist()\n",
    "nutrient_units = df_nutrients[\"unit_name\"].tolist()"
   ]
  },
  {
   "cell_type": "markdown",
   "id": "91b43d31",
   "metadata": {},
   "source": [
    "# Print the Nutrients"
   ]
  },
  {
   "cell_type": "code",
   "execution_count": 128,
   "id": "fb89d761",
   "metadata": {},
   "outputs": [
    {
     "name": "stdout",
     "output_type": "stream",
     "text": [
      "Protein\n",
      "67.0 G\n",
      "Total lipid (fat)\n",
      "33.0 G\n",
      "Carbohydrate, by difference\n",
      "3.3 G\n",
      "Energy\n",
      "10.0 KCAL\n",
      "Fiber, total dietary\n",
      "4.44 G\n",
      "Calcium, Ca\n",
      "2.22 MG\n",
      "Iron, Fe\n",
      "0.0 MG\n",
      "Sodium, Na\n",
      "0.8 MG\n",
      "Vitamin A, IU\n",
      "1667.0 IU\n",
      "Vitamin C, total ascorbic acid\n",
      "0.0 MG\n",
      "Cholesterol\n",
      "5.3 MG\n",
      "Fatty acids, total trans\n",
      "0.0 G\n",
      "Fatty acids, total saturated\n",
      "0.0 G\n",
      "Sugars, total including NLEA\n",
      "0.0 G\n"
     ]
    }
   ],
   "source": [
    "# Loop through the names of nutrients and return the name, amount, and unit\n",
    "for i in range(0, len(nutrient_names)):\n",
    "    print(nutrient_names[i])\n",
    "    print(str(nutrient_amounts[i]) + \" \" + nutrient_units[i])"
   ]
  }
 ],
 "metadata": {
  "kernelspec": {
   "display_name": "Python 3 (ipykernel)",
   "language": "python",
   "name": "python3"
  },
  "language_info": {
   "codemirror_mode": {
    "name": "ipython",
    "version": 3
   },
   "file_extension": ".py",
   "mimetype": "text/x-python",
   "name": "python",
   "nbconvert_exporter": "python",
   "pygments_lexer": "ipython3",
   "version": "3.9.12"
  }
 },
 "nbformat": 4,
 "nbformat_minor": 5
}
