{
 "cells": [
  {
   "cell_type": "markdown",
   "id": "e0ef74b7",
   "metadata": {},
   "source": [
    "# Nutrition Tracking"
   ]
  },
  {
   "cell_type": "markdown",
   "id": "2c1e9204",
   "metadata": {},
   "source": [
    "1. Program allows users to enter the name of the food and brand owner and get nutrients on the food.\n",
    "2. The food and brand name must be written exactly as entered in food and branded_food Excel workbooks.\n",
    "3. In order for the program to work, the user needs to download the latest zipped folder as a CSV file from the Branded Data Type on the FoodData Central Website \n",
    "https://fdc.nal.usda.gov/download-datasets.html\n",
    "4. When running a report, some foods will not record any nutrients or might record very few nutrients. The lack of nutrients is due to the brand company reporting few to no nutrients. No nutrients does not mean a food does not have nutrients."
   ]
  },
  {
   "cell_type": "markdown",
   "id": "234f6e96",
   "metadata": {},
   "source": [
    "# Load the modules"
   ]
  },
  {
   "cell_type": "code",
   "execution_count": 257,
   "id": "c614f447",
   "metadata": {},
   "outputs": [],
   "source": [
    "import pandas as pd"
   ]
  },
  {
   "cell_type": "markdown",
   "id": "89c60be4",
   "metadata": {},
   "source": [
    "# Get the FDC ID"
   ]
  },
  {
   "cell_type": "code",
   "execution_count": 258,
   "id": "1754206f",
   "metadata": {},
   "outputs": [
    {
     "name": "stderr",
     "output_type": "stream",
     "text": [
      "C:\\Users\\kyles\\AppData\\Local\\Temp\\ipykernel_1068\\2669597888.py:2: DtypeWarning: Columns (2,3,4,6,9,12,17,18,19) have mixed types. Specify dtype option on import or set low_memory=False.\n",
      "  df4 = pd.read_csv('branded_food.csv')\n"
     ]
    }
   ],
   "source": [
    "df1 = pd.read_csv('food.csv')\n",
    "df4 = pd.read_csv('branded_food.csv')"
   ]
  },
  {
   "cell_type": "code",
   "execution_count": 259,
   "id": "bc8c64c1",
   "metadata": {},
   "outputs": [
    {
     "name": "stdout",
     "output_type": "stream",
     "text": [
      "Enter the exact description of the food: Peas and Carrots\n",
      "Description: PEAS AND CARROTS\n",
      "\n",
      "Enter the exact brand name of the food: Roundy's\n",
      "Brand owner: ROUNDY'S\n"
     ]
    }
   ],
   "source": [
    "# Allows user to enter the name of the food. Input must be exact.\n",
    "description = input(\"Enter the exact description of the food: \")\n",
    "description = description.upper()\n",
    "print(\"Description: \" + description)\n",
    "\n",
    "print()\n",
    "\n",
    "# Allows user to enter the brand owner to find the food. Input must be exact.\n",
    "brand_owner = input(\"Enter the exact brand name of the food: \")\n",
    "brand_owner = brand_owner.upper()\n",
    "print(\"Brand owner: \" + brand_owner)"
   ]
  },
  {
   "cell_type": "code",
   "execution_count": 260,
   "id": "553ba2e8",
   "metadata": {},
   "outputs": [
    {
     "name": "stdout",
     "output_type": "stream",
     "text": [
      "FDC ID: 356721\n"
     ]
    }
   ],
   "source": [
    "\"\"\" Create dataframes using the content equal to the food and brand owner. \n",
    "    Converts the fdc_ids to lists \"\"\"\n",
    "\n",
    "df2 = df1[df1[\"description\"] == description]\n",
    "df3 = df2[\"fdc_id\"].tolist()\n",
    "\n",
    "df5 = df4[df4[\"brand_owner\"] == brand_owner]\n",
    "df6 = df5[\"fdc_id\"].tolist()\n",
    "\n",
    "\n",
    "# Gets the FDC ID that matches the brand owner and description.\n",
    "fdcId = 0\n",
    "\n",
    "for i in range(0, len(df3)):\n",
    "    for j in range(0, len(df6)):\n",
    "        if(df3[i] == df6[j]):\n",
    "            fdcId = df6[j]\n",
    "\n",
    "if fdcId == 0:\n",
    "    print(\"FDC ID not found\")\n",
    "else:\n",
    "    print(\"FDC ID: \"+ str(fdcId))"
   ]
  },
  {
   "cell_type": "markdown",
   "id": "aee31259",
   "metadata": {},
   "source": [
    "# Get the Food Nutrient IDs"
   ]
  },
  {
   "cell_type": "code",
   "execution_count": 261,
   "id": "766453f7",
   "metadata": {},
   "outputs": [],
   "source": [
    "df_nutrients = pd.read_csv('food_nutrient.csv')"
   ]
  },
  {
   "cell_type": "code",
   "execution_count": 262,
   "id": "f4aa2d44",
   "metadata": {},
   "outputs": [],
   "source": [
    "# Get all the nutrients that are equal to the fdcId\n",
    "df_nutrients_id = df_nutrients[df_nutrients[\"fdc_id\"] == fdcId]"
   ]
  },
  {
   "cell_type": "code",
   "execution_count": 263,
   "id": "4780837b",
   "metadata": {},
   "outputs": [
    {
     "name": "stdout",
     "output_type": "stream",
     "text": [
      "             id  fdc_id  nutrient_id   amount  data_points  derivation_id  \\\n",
      "642459  4908190  356721         1008    67.00          NaN           70.0   \n",
      "642460  4908193  356721         1093    33.00          NaN           70.0   \n",
      "642461  4908192  356721         1079     3.30          NaN           70.0   \n",
      "642462  4908189  356721         1005    10.00          NaN           70.0   \n",
      "642463  4908191  356721         2000     4.44          NaN           70.0   \n",
      "642464  4908188  356721         1003     2.22          NaN           70.0   \n",
      "642465  4908194  356721         1257     0.00          NaN           70.0   \n",
      "642466  3359779  356721         1089     0.80          NaN           75.0   \n",
      "642467  3359780  356721         1104  1667.00          NaN           75.0   \n",
      "642468  3359778  356721         1087     0.00          NaN           75.0   \n",
      "642469  3359781  356721         1162     5.30          NaN           75.0   \n",
      "642470  3359777  356721         1004     0.00          NaN           75.0   \n",
      "642471  3359782  356721         1253     0.00          NaN           75.0   \n",
      "642472  3359783  356721         1258     0.00          NaN           75.0   \n",
      "\n",
      "        min  max  median  footnote  min_year_acquired  \n",
      "642459  NaN  NaN     NaN       NaN                NaN  \n",
      "642460  NaN  NaN     NaN       NaN                NaN  \n",
      "642461  NaN  NaN     NaN       NaN                NaN  \n",
      "642462  NaN  NaN     NaN       NaN                NaN  \n",
      "642463  NaN  NaN     NaN       NaN                NaN  \n",
      "642464  NaN  NaN     NaN       NaN                NaN  \n",
      "642465  NaN  NaN     NaN       NaN                NaN  \n",
      "642466  NaN  NaN     NaN       NaN                NaN  \n",
      "642467  NaN  NaN     NaN       NaN                NaN  \n",
      "642468  NaN  NaN     NaN       NaN                NaN  \n",
      "642469  NaN  NaN     NaN       NaN                NaN  \n",
      "642470  NaN  NaN     NaN       NaN                NaN  \n",
      "642471  NaN  NaN     NaN       NaN                NaN  \n",
      "642472  NaN  NaN     NaN       NaN                NaN  \n"
     ]
    }
   ],
   "source": [
    "print(df_nutrients_id)"
   ]
  },
  {
   "cell_type": "code",
   "execution_count": 264,
   "id": "491bf985",
   "metadata": {},
   "outputs": [],
   "source": [
    "# Create a list of nutrient ids and nutrient amounts\n",
    "nutrient_ids = df_nutrients_id[\"nutrient_id\"].tolist()\n",
    "nutrient_amounts = df_nutrients_id[\"amount\"].tolist()"
   ]
  },
  {
   "cell_type": "markdown",
   "id": "f9e59472",
   "metadata": {},
   "source": [
    "# Get Name of Nutrient and Unit"
   ]
  },
  {
   "cell_type": "code",
   "execution_count": 265,
   "id": "b359eaf6",
   "metadata": {},
   "outputs": [],
   "source": [
    "df_nutrient = pd.read_csv(\"nutrient.csv\")"
   ]
  },
  {
   "cell_type": "code",
   "execution_count": 266,
   "id": "93563ef5",
   "metadata": {},
   "outputs": [],
   "source": [
    "#Get all the ids that are in nutrient ids list and assign the to dataframe\n",
    "df_nutrients = df_nutrient[df_nutrient[\"id\"].isin(nutrient_ids)]"
   ]
  },
  {
   "cell_type": "code",
   "execution_count": 267,
   "id": "d6256273",
   "metadata": {},
   "outputs": [
    {
     "name": "stdout",
     "output_type": "stream",
     "text": [
      "       id                            name unit_name\n",
      "4    1003                         Protein         G\n",
      "5    1004               Total lipid (fat)         G\n",
      "6    1005     Carbohydrate, by difference         G\n",
      "9    1008                          Energy      KCAL\n",
      "80   1079            Fiber, total dietary         G\n",
      "88   1087                     Calcium, Ca        MG\n",
      "90   1089                        Iron, Fe        MG\n",
      "94   1093                      Sodium, Na        MG\n",
      "105  1104                   Vitamin A, IU        IU\n",
      "163  1162  Vitamin C, total ascorbic acid        MG\n",
      "254  1253                     Cholesterol        MG\n",
      "258  1257        Fatty acids, total trans         G\n",
      "259  1258    Fatty acids, total saturated         G\n",
      "415  2000    Sugars, total including NLEA         G\n"
     ]
    }
   ],
   "source": [
    "print(df_nutrients)"
   ]
  },
  {
   "cell_type": "code",
   "execution_count": 268,
   "id": "34ff6a69",
   "metadata": {},
   "outputs": [],
   "source": [
    "# Create a list of nutrient names and units\n",
    "nutrient_names = df_nutrients[\"name\"].tolist()\n",
    "nutrient_units = df_nutrients[\"unit_name\"].tolist()"
   ]
  },
  {
   "cell_type": "markdown",
   "id": "91b43d31",
   "metadata": {},
   "source": [
    "# Print the Nutrients"
   ]
  },
  {
   "cell_type": "code",
   "execution_count": 269,
   "id": "fb89d761",
   "metadata": {},
   "outputs": [
    {
     "name": "stdout",
     "output_type": "stream",
     "text": [
      "Protein\n",
      "67.0 G\n",
      "Total lipid (fat)\n",
      "33.0 G\n",
      "Carbohydrate, by difference\n",
      "3.3 G\n",
      "Energy\n",
      "10.0 KCAL\n",
      "Fiber, total dietary\n",
      "4.44 G\n",
      "Calcium, Ca\n",
      "2.22 MG\n",
      "Iron, Fe\n",
      "0.0 MG\n",
      "Sodium, Na\n",
      "0.8 MG\n",
      "Vitamin A, IU\n",
      "1667.0 IU\n",
      "Vitamin C, total ascorbic acid\n",
      "0.0 MG\n",
      "Cholesterol\n",
      "5.3 MG\n",
      "Fatty acids, total trans\n",
      "0.0 G\n",
      "Fatty acids, total saturated\n",
      "0.0 G\n",
      "Sugars, total including NLEA\n",
      "0.0 G\n"
     ]
    }
   ],
   "source": [
    "# Loop through the names of nutrients and return the name, amount, and unit\n",
    "for i in range(0, len(nutrient_names)):\n",
    "    print(nutrient_names[i])\n",
    "    print(str(nutrient_amounts[i]) + \" \" + nutrient_units[i])"
   ]
  },
  {
   "cell_type": "markdown",
   "id": "9d8468d0",
   "metadata": {},
   "source": [
    "# Get Number of Servings"
   ]
  },
  {
   "cell_type": "code",
   "execution_count": 270,
   "id": "40584c3f",
   "metadata": {},
   "outputs": [],
   "source": [
    "df5 = df5[df5[\"fdc_id\"] == fdcId]"
   ]
  },
  {
   "cell_type": "code",
   "execution_count": 271,
   "id": "d8d2fdfc",
   "metadata": {},
   "outputs": [
    {
     "data": {
      "text/html": [
       "<div>\n",
       "<style scoped>\n",
       "    .dataframe tbody tr th:only-of-type {\n",
       "        vertical-align: middle;\n",
       "    }\n",
       "\n",
       "    .dataframe tbody tr th {\n",
       "        vertical-align: top;\n",
       "    }\n",
       "\n",
       "    .dataframe thead th {\n",
       "        text-align: right;\n",
       "    }\n",
       "</style>\n",
       "<table border=\"1\" class=\"dataframe\">\n",
       "  <thead>\n",
       "    <tr style=\"text-align: right;\">\n",
       "      <th></th>\n",
       "      <th>fdc_id</th>\n",
       "      <th>brand_owner</th>\n",
       "      <th>brand_name</th>\n",
       "      <th>subbrand_name</th>\n",
       "      <th>gtin_upc</th>\n",
       "      <th>ingredients</th>\n",
       "      <th>not_a_significant_source_of</th>\n",
       "      <th>serving_size</th>\n",
       "      <th>serving_size_unit</th>\n",
       "      <th>household_serving_fulltext</th>\n",
       "      <th>branded_food_category</th>\n",
       "      <th>data_source</th>\n",
       "      <th>package_weight</th>\n",
       "      <th>modified_date</th>\n",
       "      <th>available_date</th>\n",
       "      <th>market_country</th>\n",
       "      <th>discontinued_date</th>\n",
       "      <th>preparation_state_code</th>\n",
       "      <th>trade_channel</th>\n",
       "      <th>short_description</th>\n",
       "    </tr>\n",
       "  </thead>\n",
       "  <tbody>\n",
       "    <tr>\n",
       "      <th>45137</th>\n",
       "      <td>356721</td>\n",
       "      <td>ROUNDY'S</td>\n",
       "      <td>NaN</td>\n",
       "      <td>NaN</td>\n",
       "      <td>011150548878</td>\n",
       "      <td>PEAS, CARROTS.</td>\n",
       "      <td>NaN</td>\n",
       "      <td>90.0</td>\n",
       "      <td>g</td>\n",
       "      <td>0.66 cup</td>\n",
       "      <td>Frozen Vegetables</td>\n",
       "      <td>LI</td>\n",
       "      <td>NaN</td>\n",
       "      <td>2018-01-06</td>\n",
       "      <td>2019-04-01</td>\n",
       "      <td>United States</td>\n",
       "      <td>NaN</td>\n",
       "      <td>NaN</td>\n",
       "      <td>NaN</td>\n",
       "      <td>NaN</td>\n",
       "    </tr>\n",
       "  </tbody>\n",
       "</table>\n",
       "</div>"
      ],
      "text/plain": [
       "       fdc_id brand_owner brand_name subbrand_name      gtin_upc  \\\n",
       "45137  356721    ROUNDY'S        NaN           NaN  011150548878   \n",
       "\n",
       "          ingredients not_a_significant_source_of  serving_size  \\\n",
       "45137  PEAS, CARROTS.                         NaN          90.0   \n",
       "\n",
       "      serving_size_unit household_serving_fulltext branded_food_category  \\\n",
       "45137                 g                   0.66 cup     Frozen Vegetables   \n",
       "\n",
       "      data_source package_weight modified_date available_date market_country  \\\n",
       "45137          LI            NaN    2018-01-06     2019-04-01  United States   \n",
       "\n",
       "       discontinued_date preparation_state_code trade_channel  \\\n",
       "45137                NaN                    NaN           NaN   \n",
       "\n",
       "      short_description  \n",
       "45137               NaN  "
      ]
     },
     "execution_count": 271,
     "metadata": {},
     "output_type": "execute_result"
    }
   ],
   "source": [
    "df5.head()"
   ]
  },
  {
   "cell_type": "code",
   "execution_count": 272,
   "id": "69fd990e",
   "metadata": {},
   "outputs": [],
   "source": [
    "serving_size = df5[\"serving_size\"].tolist()\n",
    "serving_size_unit = df5[\"serving_size_unit\"].tolist()\n",
    "household_serving = df5[\"household_serving_fulltext\"].tolist()"
   ]
  },
  {
   "cell_type": "code",
   "execution_count": 273,
   "id": "2c65b1ec",
   "metadata": {},
   "outputs": [
    {
     "name": "stdout",
     "output_type": "stream",
     "text": [
      "Serving size is 90.0g\n",
      "equivalent to 0.66 cup\n",
      "How many servings did you consume? 2\n"
     ]
    }
   ],
   "source": [
    "print(\"Serving size is \" + str(serving_size[0]) + serving_size_unit[0])\n",
    "print(\"equivalent to \" + household_serving[0])\n",
    "servings = input(\"How many servings did you consume? \")"
   ]
  },
  {
   "cell_type": "markdown",
   "id": "fd1c7697",
   "metadata": {},
   "source": [
    "# Multiply Nutrients Serving by Number Servings"
   ]
  },
  {
   "cell_type": "code",
   "execution_count": 274,
   "id": "e889f7fe",
   "metadata": {},
   "outputs": [],
   "source": [
    "for i in range(0, len(nutrient_amounts)):\n",
    "    nutrient_amounts[i] *= float(servings)"
   ]
  },
  {
   "cell_type": "code",
   "execution_count": 275,
   "id": "a3e15b73",
   "metadata": {},
   "outputs": [
    {
     "name": "stdout",
     "output_type": "stream",
     "text": [
      "[134.0, 66.0, 6.6, 20.0, 8.88, 4.44, 0.0, 1.6, 3334.0, 0.0, 10.6, 0.0, 0.0, 0.0]\n"
     ]
    }
   ],
   "source": [
    "print(nutrient_amounts)"
   ]
  },
  {
   "cell_type": "markdown",
   "id": "8234efca",
   "metadata": {},
   "source": [
    "# Get Ingredients"
   ]
  },
  {
   "cell_type": "code",
   "execution_count": 276,
   "id": "5eb36d1a",
   "metadata": {},
   "outputs": [],
   "source": [
    "ingredients = df5[\"ingredients\"].tolist()"
   ]
  },
  {
   "cell_type": "code",
   "execution_count": 277,
   "id": "94070e0d",
   "metadata": {},
   "outputs": [
    {
     "name": "stdout",
     "output_type": "stream",
     "text": [
      "PEAS, CARROTS.\n"
     ]
    }
   ],
   "source": [
    "print(ingredients[0])"
   ]
  },
  {
   "cell_type": "markdown",
   "id": "55900113",
   "metadata": {},
   "source": [
    "# Create Main Dataframe"
   ]
  },
  {
   "cell_type": "code",
   "execution_count": 278,
   "id": "8f076d50",
   "metadata": {},
   "outputs": [],
   "source": [
    "nutrients = df_nutrient[\"name\"].tolist()"
   ]
  },
  {
   "cell_type": "code",
   "execution_count": 279,
   "id": "c2cd4563",
   "metadata": {},
   "outputs": [],
   "source": [
    "dfmain = pd.DataFrame(columns=nutrients)"
   ]
  },
  {
   "cell_type": "code",
   "execution_count": 280,
   "id": "64c73896",
   "metadata": {},
   "outputs": [
    {
     "data": {
      "text/html": [
       "<div>\n",
       "<style scoped>\n",
       "    .dataframe tbody tr th:only-of-type {\n",
       "        vertical-align: middle;\n",
       "    }\n",
       "\n",
       "    .dataframe tbody tr th {\n",
       "        vertical-align: top;\n",
       "    }\n",
       "\n",
       "    .dataframe thead th {\n",
       "        text-align: right;\n",
       "    }\n",
       "</style>\n",
       "<table border=\"1\" class=\"dataframe\">\n",
       "  <thead>\n",
       "    <tr style=\"text-align: right;\">\n",
       "      <th></th>\n",
       "      <th>Energy (Atwater General Factors)</th>\n",
       "      <th>Energy (Atwater Specific Factors)</th>\n",
       "      <th>Solids</th>\n",
       "      <th>Nitrogen</th>\n",
       "      <th>Protein</th>\n",
       "      <th>Total lipid (fat)</th>\n",
       "      <th>Carbohydrate, by difference</th>\n",
       "      <th>Fiber, crude (DO NOT USE - Archived)</th>\n",
       "      <th>Ash</th>\n",
       "      <th>Energy</th>\n",
       "      <th>...</th>\n",
       "      <th>Glycitin</th>\n",
       "      <th>Ergothioneine</th>\n",
       "      <th>Beta-glucan</th>\n",
       "      <th>Vitamin D4</th>\n",
       "      <th>Ergosta-7-enol</th>\n",
       "      <th>Ergosta-7,22-dienol</th>\n",
       "      <th>Ergosta-5,7-dienol</th>\n",
       "      <th>Verbascose</th>\n",
       "      <th>Oligosaccharides</th>\n",
       "      <th>Low Molecular Weight Dietary Fiber (LMWDF)</th>\n",
       "    </tr>\n",
       "  </thead>\n",
       "  <tbody>\n",
       "  </tbody>\n",
       "</table>\n",
       "<p>0 rows × 474 columns</p>\n",
       "</div>"
      ],
      "text/plain": [
       "Empty DataFrame\n",
       "Columns: [Energy (Atwater General Factors), Energy (Atwater Specific Factors), Solids, Nitrogen, Protein, Total lipid (fat), Carbohydrate, by difference, Fiber, crude (DO NOT USE - Archived), Ash, Energy, Starch, Sucrose, Glucose, Fructose, Lactose, Maltose, Amylose, Amylopectin, Pectin, Alcohol, ethyl, Pentosan, Pentoses, Hemicellulose, Cellulose, pH, Specific Gravity, Organic acids, Acetic acid, Aconitic acid, Benzoic acid, Chelidonic acid, Chlorogenic acid, Cinnamic acid, Citric acid, Fumaric acid, Galacturonic acid, Gallic acid, Glycolic acid, Isocitric acid, Lactic acid, Malic acid, Oxaloacetic acid, Oxalic acid, Phytic acid, Pyruvic acid, Quinic acid, Salicylic acid, Succinic acid, Tartaric acid, Ursolic acid, Solids, non-fat, Carbohydrate, by summation, Water, Adjusted Nitrogen, Adjusted Protein, Piperine, Mannitol, Sorbitol, Caffeine, Theobromine, Nitrates, Nitrites, Nitrosamine,total, Energy, Sugars, Total, Solids, soluble, Glycogen, Fiber, neutral detergent (DO NOT USE - Archived), Reducing sugars, Beta-glucans, Oligosaccharides, Nonstarch polysaccharides, Resistant starch, Carbohydrate, other, Arabinose, Xylose, Galactose, Raffinose, Stachyose, Xylitol, Fiber, total dietary, Lignin, Ribose, Fiber, soluble, Theophylline, Fiber, insoluble, Total fat (NLEA), Total sugar alcohols, Calcium, Ca, Chlorine, Cl, Iron, Fe, Magnesium, Mg, Phosphorus, P, Potassium, K, Sodium, Na, Sulfur, S, Zinc, Zn, Chromium, Cr, Cobalt, Co, Copper, Cu, ...]\n",
       "Index: []\n",
       "\n",
       "[0 rows x 474 columns]"
      ]
     },
     "execution_count": 280,
     "metadata": {},
     "output_type": "execute_result"
    }
   ],
   "source": [
    "dfmain.head()"
   ]
  },
  {
   "cell_type": "markdown",
   "id": "77786e0a",
   "metadata": {},
   "source": [
    "# Create DataFrame"
   ]
  },
  {
   "cell_type": "code",
   "execution_count": 281,
   "id": "6859f690",
   "metadata": {},
   "outputs": [],
   "source": [
    "amounts_totals = []\n",
    "for i in range(0, len(nutrients)):\n",
    "    total = 0.0\n",
    "    for j in range(0, len(nutrient_names)):\n",
    "        if nutrient_names[j] == nutrients[i]:\n",
    "            total = nutrient_amounts[j]\n",
    "    amounts_totals.append(total)\n",
    "    \n",
    "df = pd.DataFrame(columns=nutrients)\n",
    "df.loc[0] = amounts_totals"
   ]
  },
  {
   "cell_type": "markdown",
   "id": "359a6707",
   "metadata": {},
   "source": [
    "# Concat df to dfmain"
   ]
  },
  {
   "cell_type": "code",
   "execution_count": 282,
   "id": "c0ccb3b1",
   "metadata": {},
   "outputs": [],
   "source": [
    "dfmain = pd.concat([dfmain, df])"
   ]
  },
  {
   "cell_type": "code",
   "execution_count": 283,
   "id": "0ecbec16",
   "metadata": {},
   "outputs": [
    {
     "data": {
      "text/html": [
       "<div>\n",
       "<style scoped>\n",
       "    .dataframe tbody tr th:only-of-type {\n",
       "        vertical-align: middle;\n",
       "    }\n",
       "\n",
       "    .dataframe tbody tr th {\n",
       "        vertical-align: top;\n",
       "    }\n",
       "\n",
       "    .dataframe thead th {\n",
       "        text-align: right;\n",
       "    }\n",
       "</style>\n",
       "<table border=\"1\" class=\"dataframe\">\n",
       "  <thead>\n",
       "    <tr style=\"text-align: right;\">\n",
       "      <th></th>\n",
       "      <th>Energy (Atwater General Factors)</th>\n",
       "      <th>Energy (Atwater Specific Factors)</th>\n",
       "      <th>Solids</th>\n",
       "      <th>Nitrogen</th>\n",
       "      <th>Protein</th>\n",
       "      <th>Total lipid (fat)</th>\n",
       "      <th>Carbohydrate, by difference</th>\n",
       "      <th>Fiber, crude (DO NOT USE - Archived)</th>\n",
       "      <th>Ash</th>\n",
       "      <th>Energy</th>\n",
       "      <th>...</th>\n",
       "      <th>Glycitin</th>\n",
       "      <th>Ergothioneine</th>\n",
       "      <th>Beta-glucan</th>\n",
       "      <th>Vitamin D4</th>\n",
       "      <th>Ergosta-7-enol</th>\n",
       "      <th>Ergosta-7,22-dienol</th>\n",
       "      <th>Ergosta-5,7-dienol</th>\n",
       "      <th>Verbascose</th>\n",
       "      <th>Oligosaccharides</th>\n",
       "      <th>Low Molecular Weight Dietary Fiber (LMWDF)</th>\n",
       "    </tr>\n",
       "  </thead>\n",
       "  <tbody>\n",
       "    <tr>\n",
       "      <th>0</th>\n",
       "      <td>0.0</td>\n",
       "      <td>0.0</td>\n",
       "      <td>0.0</td>\n",
       "      <td>0.0</td>\n",
       "      <td>134.0</td>\n",
       "      <td>66.0</td>\n",
       "      <td>6.6</td>\n",
       "      <td>0.0</td>\n",
       "      <td>0.0</td>\n",
       "      <td>20.0</td>\n",
       "      <td>...</td>\n",
       "      <td>0.0</td>\n",
       "      <td>0.0</td>\n",
       "      <td>0.0</td>\n",
       "      <td>0.0</td>\n",
       "      <td>0.0</td>\n",
       "      <td>0.0</td>\n",
       "      <td>0.0</td>\n",
       "      <td>0.0</td>\n",
       "      <td>0.0</td>\n",
       "      <td>0.0</td>\n",
       "    </tr>\n",
       "  </tbody>\n",
       "</table>\n",
       "<p>1 rows × 474 columns</p>\n",
       "</div>"
      ],
      "text/plain": [
       "  Energy (Atwater General Factors) Energy (Atwater Specific Factors) Solids  \\\n",
       "0                              0.0                               0.0    0.0   \n",
       "\n",
       "  Nitrogen Protein Total lipid (fat) Carbohydrate, by difference  \\\n",
       "0      0.0   134.0              66.0                         6.6   \n",
       "\n",
       "  Fiber, crude (DO NOT USE - Archived)  Ash Energy  ... Glycitin  \\\n",
       "0                                  0.0  0.0   20.0  ...      0.0   \n",
       "\n",
       "  Ergothioneine Beta-glucan Vitamin D4 Ergosta-7-enol  Ergosta-7,22-dienol  \\\n",
       "0           0.0         0.0        0.0            0.0                  0.0   \n",
       "\n",
       "   Ergosta-5,7-dienol Verbascose Oligosaccharides  \\\n",
       "0                 0.0        0.0              0.0   \n",
       "\n",
       "  Low Molecular Weight Dietary Fiber (LMWDF)  \n",
       "0                                        0.0  \n",
       "\n",
       "[1 rows x 474 columns]"
      ]
     },
     "execution_count": 283,
     "metadata": {},
     "output_type": "execute_result"
    }
   ],
   "source": [
    "dfmain"
   ]
  },
  {
   "cell_type": "markdown",
   "id": "8c4c28a4",
   "metadata": {},
   "source": [
    "# Output to Excel Workbook"
   ]
  },
  {
   "cell_type": "code",
   "execution_count": 284,
   "id": "c08270b5",
   "metadata": {},
   "outputs": [],
   "source": [
    "dfmain.to_excel(\"output.xlsx\", index=False)"
   ]
  },
  {
   "cell_type": "code",
   "execution_count": null,
   "id": "a3f194da",
   "metadata": {},
   "outputs": [],
   "source": []
  }
 ],
 "metadata": {
  "kernelspec": {
   "display_name": "Python 3 (ipykernel)",
   "language": "python",
   "name": "python3"
  },
  "language_info": {
   "codemirror_mode": {
    "name": "ipython",
    "version": 3
   },
   "file_extension": ".py",
   "mimetype": "text/x-python",
   "name": "python",
   "nbconvert_exporter": "python",
   "pygments_lexer": "ipython3",
   "version": "3.9.12"
  }
 },
 "nbformat": 4,
 "nbformat_minor": 5
}
